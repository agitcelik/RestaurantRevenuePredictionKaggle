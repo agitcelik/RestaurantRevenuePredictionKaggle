{
 "cells": [
  {
   "cell_type": "markdown",
   "metadata": {},
   "source": [
    "# Final project for CMPE 343-Business Intelligence and Applied Analytics \n",
    "\n",
    "### In this project we used the Kaggle Competition https://www.kaggle.com/c/restaurant-revenue-prediction \n",
    "\n",
    "#### Team members are:\n",
    "-Oğulcan Gök\n",
    "\n",
    "-Agit Çelik\n",
    "\n",
    "-Selim Kundakçıoğlu\n",
    "\n",
    "-Arda Alparslan"
   ]
  },
  {
   "cell_type": "code",
   "execution_count": 1,
   "metadata": {
    "scrolled": true
   },
   "outputs": [
    {
     "name": "stdout",
     "output_type": "stream",
     "text": [
      "<class 'pandas.core.frame.DataFrame'>\n",
      "RangeIndex: 137 entries, 0 to 136\n",
      "Data columns (total 43 columns):\n",
      "Id            137 non-null int64\n",
      "Open Date     137 non-null object\n",
      "City          137 non-null object\n",
      "City Group    137 non-null object\n",
      "Type          137 non-null object\n",
      "P1            137 non-null int64\n",
      "P2            137 non-null float64\n",
      "P3            137 non-null float64\n",
      "P4            137 non-null float64\n",
      "P5            137 non-null int64\n",
      "P6            137 non-null int64\n",
      "P7            137 non-null int64\n",
      "P8            137 non-null int64\n",
      "P9            137 non-null int64\n",
      "P10           137 non-null int64\n",
      "P11           137 non-null int64\n",
      "P12           137 non-null int64\n",
      "P13           137 non-null float64\n",
      "P14           137 non-null int64\n",
      "P15           137 non-null int64\n",
      "P16           137 non-null int64\n",
      "P17           137 non-null int64\n",
      "P18           137 non-null int64\n",
      "P19           137 non-null int64\n",
      "P20           137 non-null int64\n",
      "P21           137 non-null int64\n",
      "P22           137 non-null int64\n",
      "P23           137 non-null int64\n",
      "P24           137 non-null int64\n",
      "P25           137 non-null int64\n",
      "P26           137 non-null float64\n",
      "P27           137 non-null float64\n",
      "P28           137 non-null float64\n",
      "P29           137 non-null float64\n",
      "P30           137 non-null int64\n",
      "P31           137 non-null int64\n",
      "P32           137 non-null int64\n",
      "P33           137 non-null int64\n",
      "P34           137 non-null int64\n",
      "P35           137 non-null int64\n",
      "P36           137 non-null int64\n",
      "P37           137 non-null int64\n",
      "revenue       137 non-null float64\n",
      "dtypes: float64(9), int64(30), object(4)\n",
      "memory usage: 46.1+ KB\n"
     ]
    },
    {
     "data": {
      "text/html": [
       "<div>\n",
       "<style scoped>\n",
       "    .dataframe tbody tr th:only-of-type {\n",
       "        vertical-align: middle;\n",
       "    }\n",
       "\n",
       "    .dataframe tbody tr th {\n",
       "        vertical-align: top;\n",
       "    }\n",
       "\n",
       "    .dataframe thead th {\n",
       "        text-align: right;\n",
       "    }\n",
       "</style>\n",
       "<table border=\"1\" class=\"dataframe\">\n",
       "  <thead>\n",
       "    <tr style=\"text-align: right;\">\n",
       "      <th></th>\n",
       "      <th>Id</th>\n",
       "      <th>Open Date</th>\n",
       "      <th>City</th>\n",
       "      <th>City Group</th>\n",
       "      <th>Type</th>\n",
       "      <th>P1</th>\n",
       "      <th>P2</th>\n",
       "      <th>P3</th>\n",
       "      <th>P4</th>\n",
       "      <th>P5</th>\n",
       "      <th>...</th>\n",
       "      <th>P29</th>\n",
       "      <th>P30</th>\n",
       "      <th>P31</th>\n",
       "      <th>P32</th>\n",
       "      <th>P33</th>\n",
       "      <th>P34</th>\n",
       "      <th>P35</th>\n",
       "      <th>P36</th>\n",
       "      <th>P37</th>\n",
       "      <th>revenue</th>\n",
       "    </tr>\n",
       "  </thead>\n",
       "  <tbody>\n",
       "    <tr>\n",
       "      <th>0</th>\n",
       "      <td>0</td>\n",
       "      <td>07/17/1999</td>\n",
       "      <td>İstanbul</td>\n",
       "      <td>Big Cities</td>\n",
       "      <td>IL</td>\n",
       "      <td>4</td>\n",
       "      <td>5.0</td>\n",
       "      <td>4.0</td>\n",
       "      <td>4.0</td>\n",
       "      <td>2</td>\n",
       "      <td>...</td>\n",
       "      <td>3.0</td>\n",
       "      <td>5</td>\n",
       "      <td>3</td>\n",
       "      <td>4</td>\n",
       "      <td>5</td>\n",
       "      <td>5</td>\n",
       "      <td>4</td>\n",
       "      <td>3</td>\n",
       "      <td>4</td>\n",
       "      <td>5653753.0</td>\n",
       "    </tr>\n",
       "    <tr>\n",
       "      <th>1</th>\n",
       "      <td>1</td>\n",
       "      <td>02/14/2008</td>\n",
       "      <td>Ankara</td>\n",
       "      <td>Big Cities</td>\n",
       "      <td>FC</td>\n",
       "      <td>4</td>\n",
       "      <td>5.0</td>\n",
       "      <td>4.0</td>\n",
       "      <td>4.0</td>\n",
       "      <td>1</td>\n",
       "      <td>...</td>\n",
       "      <td>3.0</td>\n",
       "      <td>0</td>\n",
       "      <td>0</td>\n",
       "      <td>0</td>\n",
       "      <td>0</td>\n",
       "      <td>0</td>\n",
       "      <td>0</td>\n",
       "      <td>0</td>\n",
       "      <td>0</td>\n",
       "      <td>6923131.0</td>\n",
       "    </tr>\n",
       "    <tr>\n",
       "      <th>2</th>\n",
       "      <td>2</td>\n",
       "      <td>03/09/2013</td>\n",
       "      <td>Diyarbakır</td>\n",
       "      <td>Other</td>\n",
       "      <td>IL</td>\n",
       "      <td>2</td>\n",
       "      <td>4.0</td>\n",
       "      <td>2.0</td>\n",
       "      <td>5.0</td>\n",
       "      <td>2</td>\n",
       "      <td>...</td>\n",
       "      <td>3.0</td>\n",
       "      <td>0</td>\n",
       "      <td>0</td>\n",
       "      <td>0</td>\n",
       "      <td>0</td>\n",
       "      <td>0</td>\n",
       "      <td>0</td>\n",
       "      <td>0</td>\n",
       "      <td>0</td>\n",
       "      <td>2055379.0</td>\n",
       "    </tr>\n",
       "    <tr>\n",
       "      <th>3</th>\n",
       "      <td>3</td>\n",
       "      <td>02/02/2012</td>\n",
       "      <td>Tokat</td>\n",
       "      <td>Other</td>\n",
       "      <td>IL</td>\n",
       "      <td>6</td>\n",
       "      <td>4.5</td>\n",
       "      <td>6.0</td>\n",
       "      <td>6.0</td>\n",
       "      <td>4</td>\n",
       "      <td>...</td>\n",
       "      <td>7.5</td>\n",
       "      <td>25</td>\n",
       "      <td>12</td>\n",
       "      <td>10</td>\n",
       "      <td>6</td>\n",
       "      <td>18</td>\n",
       "      <td>12</td>\n",
       "      <td>12</td>\n",
       "      <td>6</td>\n",
       "      <td>2675511.0</td>\n",
       "    </tr>\n",
       "    <tr>\n",
       "      <th>4</th>\n",
       "      <td>4</td>\n",
       "      <td>05/09/2009</td>\n",
       "      <td>Gaziantep</td>\n",
       "      <td>Other</td>\n",
       "      <td>IL</td>\n",
       "      <td>3</td>\n",
       "      <td>4.0</td>\n",
       "      <td>3.0</td>\n",
       "      <td>4.0</td>\n",
       "      <td>2</td>\n",
       "      <td>...</td>\n",
       "      <td>3.0</td>\n",
       "      <td>5</td>\n",
       "      <td>1</td>\n",
       "      <td>3</td>\n",
       "      <td>2</td>\n",
       "      <td>3</td>\n",
       "      <td>4</td>\n",
       "      <td>3</td>\n",
       "      <td>3</td>\n",
       "      <td>4316715.0</td>\n",
       "    </tr>\n",
       "  </tbody>\n",
       "</table>\n",
       "<p>5 rows × 43 columns</p>\n",
       "</div>"
      ],
      "text/plain": [
       "   Id   Open Date        City  City Group Type  P1   P2   P3   P4  P5  \\\n",
       "0   0  07/17/1999    İstanbul  Big Cities   IL   4  5.0  4.0  4.0   2   \n",
       "1   1  02/14/2008      Ankara  Big Cities   FC   4  5.0  4.0  4.0   1   \n",
       "2   2  03/09/2013  Diyarbakır       Other   IL   2  4.0  2.0  5.0   2   \n",
       "3   3  02/02/2012       Tokat       Other   IL   6  4.5  6.0  6.0   4   \n",
       "4   4  05/09/2009   Gaziantep       Other   IL   3  4.0  3.0  4.0   2   \n",
       "\n",
       "     ...      P29  P30  P31  P32  P33  P34  P35  P36  P37    revenue  \n",
       "0    ...      3.0    5    3    4    5    5    4    3    4  5653753.0  \n",
       "1    ...      3.0    0    0    0    0    0    0    0    0  6923131.0  \n",
       "2    ...      3.0    0    0    0    0    0    0    0    0  2055379.0  \n",
       "3    ...      7.5   25   12   10    6   18   12   12    6  2675511.0  \n",
       "4    ...      3.0    5    1    3    2    3    4    3    3  4316715.0  \n",
       "\n",
       "[5 rows x 43 columns]"
      ]
     },
     "execution_count": 1,
     "metadata": {},
     "output_type": "execute_result"
    }
   ],
   "source": [
    "#Importing required libraries\n",
    "from sklearn.ensemble import RandomForestRegressor\n",
    "import matplotlib.pyplot as plt\n",
    "import seaborn as sns\n",
    "from sklearn.model_selection import train_test_split\n",
    "from sklearn.feature_selection import SelectKBest\n",
    "from sklearn.feature_selection import chi2\n",
    "import numpy as np \n",
    "import pandas as pd \n",
    "\n",
    "#reading the csv data\n",
    "trainData = pd.read_csv('train.csv')\n",
    "trainData.info()\n",
    "\n",
    "trainData.head(5)"
   ]
  },
  {
   "cell_type": "markdown",
   "metadata": {},
   "source": [
    "## PREPROCESSiNG  & SOME  ANALYSiS"
   ]
  },
  {
   "cell_type": "code",
   "execution_count": 2,
   "metadata": {},
   "outputs": [],
   "source": [
    "#Converting Open Date column to Open Days; day count of the restaurant since the beginning\n",
    "#and dropping the Open Date Columns\n",
    "trainData['Open Date'] = pd.to_datetime(trainData['Open Date'], format='%m/%d/%Y')   \n",
    "trainData['OpenDays']=\"\"\n",
    "\n",
    "dateLastTrain = pd.DataFrame({'Date':np.repeat(['01/01/2015'],[len(trainData)]) })\n",
    "dateLastTrain['Date'] = pd.to_datetime(dateLastTrain['Date'], format='%m/%d/%Y')  \n",
    "\n",
    "trainData['OpenDays'] = dateLastTrain['Date'] - trainData['Open Date']\n",
    "trainData['OpenDays'] = trainData['OpenDays'].astype('timedelta64[D]').astype(int)\n",
    "\n",
    "trainData = trainData.drop('Open Date', axis=1)"
   ]
  },
  {
   "cell_type": "code",
   "execution_count": 3,
   "metadata": {},
   "outputs": [
    {
     "data": {
      "text/plain": [
       "<matplotlib.axes._subplots.AxesSubplot at 0x7f5b83b8cf98>"
      ]
     },
     "execution_count": 3,
     "metadata": {},
     "output_type": "execute_result"
    },
    {
     "data": {
      "image/png": "[encoded data removed]",
      "text/plain": [
       "<Figure size 432x288 with 1 Axes>"
      ]
     },
     "metadata": {},
     "output_type": "display_data"
    }
   ],
   "source": [
    "#Comparing the revenues of big cities and other cities\n",
    "cityPerc = trainData[[\"City Group\", \"revenue\"]].groupby(['City Group'],as_index=False).mean()\n",
    "\n",
    "sns.barplot(x='City Group', y='revenue', data=cityPerc)"
   ]
  },
  {
   "cell_type": "code",
   "execution_count": 4,
   "metadata": {},
   "outputs": [
    {
     "data": {
      "text/plain": [
       "<matplotlib.axes._subplots.AxesSubplot at 0x7f5b81aafba8>"
      ]
     },
     "execution_count": 4,
     "metadata": {},
     "output_type": "execute_result"
    },
    {
     "data": {
      "image/png": "[encoded data removed]",
      "text/plain": [
       "<Figure size 432x288 with 1 Axes>"
      ]
     },
     "metadata": {},
     "output_type": "display_data"
    }
   ],
   "source": [
    "#Sorting the cities by revenue; getting the max earned cities\n",
    "cityPerc = trainData[[\"City\", \"revenue\"]].groupby(['City'],as_index=False).mean()\n",
    "\n",
    "newDF = cityPerc.sort_values([\"revenue\"],ascending= False)\n",
    "sns.barplot(x='City', y='revenue', data=newDF.head(10))"
   ]
  },
  {
   "cell_type": "code",
   "execution_count": 5,
   "metadata": {},
   "outputs": [
    {
     "data": {
      "text/plain": [
       "<matplotlib.axes._subplots.AxesSubplot at 0x7f5b81a171d0>"
      ]
     },
     "execution_count": 5,
     "metadata": {},
     "output_type": "execute_result"
    },
    {
     "data": {
      "image/png": "[encoded data removed]",
      "text/plain": [
       "<Figure size 432x288 with 1 Axes>"
      ]
     },
     "metadata": {},
     "output_type": "display_data"
    }
   ],
   "source": [
    "cityPerc = trainData[[\"City\", \"revenue\"]].groupby(['City'],as_index=False).mean()\n",
    "newDF = cityPerc.sort_values([\"revenue\"],ascending= True)\n",
    "sns.barplot(x='City', y='revenue', data=newDF.head(10))"
   ]
  },
  {
   "cell_type": "code",
   "execution_count": 6,
   "metadata": {},
   "outputs": [
    {
     "data": {
      "text/plain": [
       "<matplotlib.axes._subplots.AxesSubplot at 0x7f5b81a17278>"
      ]
     },
     "execution_count": 6,
     "metadata": {},
     "output_type": "execute_result"
    },
    {
     "data": {
      "image/png": "[encoded data removed]",
      "text/plain": [
       "<Figure size 432x288 with 1 Axes>"
      ]
     },
     "metadata": {},
     "output_type": "display_data"
    }
   ],
   "source": [
    "#Getting an insight of which restaurant type earns more\n",
    "cityPerc = trainData[[\"Type\", \"revenue\"]].groupby(['Type'],as_index=False).mean()\n",
    "sns.barplot(x='Type', y='revenue', data=cityPerc)"
   ]
  },
  {
   "cell_type": "code",
   "execution_count": 7,
   "metadata": {},
   "outputs": [
    {
     "data": {
      "text/plain": [
       "<matplotlib.axes._subplots.AxesSubplot at 0x7f5b819a49e8>"
      ]
     },
     "execution_count": 7,
     "metadata": {},
     "output_type": "execute_result"
    },
    {
     "data": {
      "image/png": "[encoded data removed]",
      "text/plain": [
       "<Figure size 432x288 with 1 Axes>"
      ]
     },
     "metadata": {},
     "output_type": "display_data"
    }
   ],
   "source": [
    "#Plot about working days of specific restaurant types\n",
    "cityPerc = trainData[[\"Type\", \"OpenDays\"]].groupby(['Type'],as_index=False).mean()\n",
    "sns.barplot(x='Type', y='OpenDays', data=cityPerc)"
   ]
  },
  {
   "cell_type": "code",
   "execution_count": 8,
   "metadata": {},
   "outputs": [],
   "source": [
    "#Dropping the Id and Type columns since they are irrevelant for our predictions\n",
    "trainData = trainData.drop('Id', axis=1)\n",
    "\n",
    "trainData = trainData.drop('Type', axis=1)"
   ]
  },
  {
   "cell_type": "code",
   "execution_count": 9,
   "metadata": {},
   "outputs": [],
   "source": [
    "#Creating dummy variables to represent City Groups\n",
    "citygroupDummy = pd.get_dummies(trainData['City Group'])\n",
    "trainData = trainData.join(citygroupDummy)\n",
    "\n",
    "#After doing dummy variables for City Group we dropped it\n",
    "trainData = trainData.drop('City Group', axis=1)\n",
    "\n",
    "trainData = trainData.drop('City', axis=1)\n",
    "\n",
    "tempRev = trainData['revenue']\n",
    "trainData = trainData.drop('revenue', axis=1)\n",
    "\n",
    "\n",
    "trainData = trainData.join(tempRev)"
   ]
  },
  {
   "cell_type": "code",
   "execution_count": 10,
   "metadata": {},
   "outputs": [
    {
     "data": {
      "text/html": [
       "<div>\n",
       "<style scoped>\n",
       "    .dataframe tbody tr th:only-of-type {\n",
       "        vertical-align: middle;\n",
       "    }\n",
       "\n",
       "    .dataframe tbody tr th {\n",
       "        vertical-align: top;\n",
       "    }\n",
       "\n",
       "    .dataframe thead th {\n",
       "        text-align: right;\n",
       "    }\n",
       "</style>\n",
       "<table border=\"1\" class=\"dataframe\">\n",
       "  <thead>\n",
       "    <tr style=\"text-align: right;\">\n",
       "      <th></th>\n",
       "      <th>P1</th>\n",
       "      <th>P2</th>\n",
       "      <th>P3</th>\n",
       "      <th>P4</th>\n",
       "      <th>P5</th>\n",
       "      <th>P6</th>\n",
       "      <th>P7</th>\n",
       "      <th>P8</th>\n",
       "      <th>P9</th>\n",
       "      <th>P10</th>\n",
       "      <th>...</th>\n",
       "      <th>P32</th>\n",
       "      <th>P33</th>\n",
       "      <th>P34</th>\n",
       "      <th>P35</th>\n",
       "      <th>P36</th>\n",
       "      <th>P37</th>\n",
       "      <th>OpenDays</th>\n",
       "      <th>Big Cities</th>\n",
       "      <th>Other</th>\n",
       "      <th>revenue</th>\n",
       "    </tr>\n",
       "  </thead>\n",
       "  <tbody>\n",
       "    <tr>\n",
       "      <th>0</th>\n",
       "      <td>4</td>\n",
       "      <td>5.0</td>\n",
       "      <td>4.0</td>\n",
       "      <td>4.0</td>\n",
       "      <td>2</td>\n",
       "      <td>2</td>\n",
       "      <td>5</td>\n",
       "      <td>4</td>\n",
       "      <td>5</td>\n",
       "      <td>5</td>\n",
       "      <td>...</td>\n",
       "      <td>4</td>\n",
       "      <td>5</td>\n",
       "      <td>5</td>\n",
       "      <td>4</td>\n",
       "      <td>3</td>\n",
       "      <td>4</td>\n",
       "      <td>5647</td>\n",
       "      <td>1</td>\n",
       "      <td>0</td>\n",
       "      <td>5653753.0</td>\n",
       "    </tr>\n",
       "    <tr>\n",
       "      <th>1</th>\n",
       "      <td>4</td>\n",
       "      <td>5.0</td>\n",
       "      <td>4.0</td>\n",
       "      <td>4.0</td>\n",
       "      <td>1</td>\n",
       "      <td>2</td>\n",
       "      <td>5</td>\n",
       "      <td>5</td>\n",
       "      <td>5</td>\n",
       "      <td>5</td>\n",
       "      <td>...</td>\n",
       "      <td>0</td>\n",
       "      <td>0</td>\n",
       "      <td>0</td>\n",
       "      <td>0</td>\n",
       "      <td>0</td>\n",
       "      <td>0</td>\n",
       "      <td>2513</td>\n",
       "      <td>1</td>\n",
       "      <td>0</td>\n",
       "      <td>6923131.0</td>\n",
       "    </tr>\n",
       "    <tr>\n",
       "      <th>2</th>\n",
       "      <td>2</td>\n",
       "      <td>4.0</td>\n",
       "      <td>2.0</td>\n",
       "      <td>5.0</td>\n",
       "      <td>2</td>\n",
       "      <td>3</td>\n",
       "      <td>5</td>\n",
       "      <td>5</td>\n",
       "      <td>5</td>\n",
       "      <td>5</td>\n",
       "      <td>...</td>\n",
       "      <td>0</td>\n",
       "      <td>0</td>\n",
       "      <td>0</td>\n",
       "      <td>0</td>\n",
       "      <td>0</td>\n",
       "      <td>0</td>\n",
       "      <td>663</td>\n",
       "      <td>0</td>\n",
       "      <td>1</td>\n",
       "      <td>2055379.0</td>\n",
       "    </tr>\n",
       "    <tr>\n",
       "      <th>3</th>\n",
       "      <td>6</td>\n",
       "      <td>4.5</td>\n",
       "      <td>6.0</td>\n",
       "      <td>6.0</td>\n",
       "      <td>4</td>\n",
       "      <td>4</td>\n",
       "      <td>10</td>\n",
       "      <td>8</td>\n",
       "      <td>10</td>\n",
       "      <td>10</td>\n",
       "      <td>...</td>\n",
       "      <td>10</td>\n",
       "      <td>6</td>\n",
       "      <td>18</td>\n",
       "      <td>12</td>\n",
       "      <td>12</td>\n",
       "      <td>6</td>\n",
       "      <td>1064</td>\n",
       "      <td>0</td>\n",
       "      <td>1</td>\n",
       "      <td>2675511.0</td>\n",
       "    </tr>\n",
       "    <tr>\n",
       "      <th>4</th>\n",
       "      <td>3</td>\n",
       "      <td>4.0</td>\n",
       "      <td>3.0</td>\n",
       "      <td>4.0</td>\n",
       "      <td>2</td>\n",
       "      <td>2</td>\n",
       "      <td>5</td>\n",
       "      <td>5</td>\n",
       "      <td>5</td>\n",
       "      <td>5</td>\n",
       "      <td>...</td>\n",
       "      <td>3</td>\n",
       "      <td>2</td>\n",
       "      <td>3</td>\n",
       "      <td>4</td>\n",
       "      <td>3</td>\n",
       "      <td>3</td>\n",
       "      <td>2063</td>\n",
       "      <td>0</td>\n",
       "      <td>1</td>\n",
       "      <td>4316715.0</td>\n",
       "    </tr>\n",
       "    <tr>\n",
       "      <th>5</th>\n",
       "      <td>6</td>\n",
       "      <td>6.0</td>\n",
       "      <td>4.5</td>\n",
       "      <td>7.5</td>\n",
       "      <td>8</td>\n",
       "      <td>10</td>\n",
       "      <td>10</td>\n",
       "      <td>8</td>\n",
       "      <td>8</td>\n",
       "      <td>8</td>\n",
       "      <td>...</td>\n",
       "      <td>0</td>\n",
       "      <td>0</td>\n",
       "      <td>0</td>\n",
       "      <td>0</td>\n",
       "      <td>0</td>\n",
       "      <td>0</td>\n",
       "      <td>1784</td>\n",
       "      <td>1</td>\n",
       "      <td>0</td>\n",
       "      <td>5017319.0</td>\n",
       "    </tr>\n",
       "    <tr>\n",
       "      <th>6</th>\n",
       "      <td>2</td>\n",
       "      <td>3.0</td>\n",
       "      <td>4.0</td>\n",
       "      <td>4.0</td>\n",
       "      <td>1</td>\n",
       "      <td>5</td>\n",
       "      <td>5</td>\n",
       "      <td>5</td>\n",
       "      <td>5</td>\n",
       "      <td>5</td>\n",
       "      <td>...</td>\n",
       "      <td>2</td>\n",
       "      <td>2</td>\n",
       "      <td>3</td>\n",
       "      <td>5</td>\n",
       "      <td>4</td>\n",
       "      <td>4</td>\n",
       "      <td>1543</td>\n",
       "      <td>1</td>\n",
       "      <td>0</td>\n",
       "      <td>5166635.0</td>\n",
       "    </tr>\n",
       "    <tr>\n",
       "      <th>7</th>\n",
       "      <td>4</td>\n",
       "      <td>5.0</td>\n",
       "      <td>4.0</td>\n",
       "      <td>5.0</td>\n",
       "      <td>2</td>\n",
       "      <td>3</td>\n",
       "      <td>5</td>\n",
       "      <td>4</td>\n",
       "      <td>4</td>\n",
       "      <td>4</td>\n",
       "      <td>...</td>\n",
       "      <td>0</td>\n",
       "      <td>0</td>\n",
       "      <td>0</td>\n",
       "      <td>0</td>\n",
       "      <td>0</td>\n",
       "      <td>0</td>\n",
       "      <td>1290</td>\n",
       "      <td>1</td>\n",
       "      <td>0</td>\n",
       "      <td>4491607.0</td>\n",
       "    </tr>\n",
       "    <tr>\n",
       "      <th>8</th>\n",
       "      <td>1</td>\n",
       "      <td>1.0</td>\n",
       "      <td>4.0</td>\n",
       "      <td>4.0</td>\n",
       "      <td>1</td>\n",
       "      <td>2</td>\n",
       "      <td>1</td>\n",
       "      <td>5</td>\n",
       "      <td>5</td>\n",
       "      <td>5</td>\n",
       "      <td>...</td>\n",
       "      <td>5</td>\n",
       "      <td>3</td>\n",
       "      <td>4</td>\n",
       "      <td>5</td>\n",
       "      <td>4</td>\n",
       "      <td>5</td>\n",
       "      <td>1587</td>\n",
       "      <td>0</td>\n",
       "      <td>1</td>\n",
       "      <td>4952497.0</td>\n",
       "    </tr>\n",
       "    <tr>\n",
       "      <th>9</th>\n",
       "      <td>6</td>\n",
       "      <td>4.5</td>\n",
       "      <td>6.0</td>\n",
       "      <td>7.5</td>\n",
       "      <td>6</td>\n",
       "      <td>4</td>\n",
       "      <td>10</td>\n",
       "      <td>10</td>\n",
       "      <td>10</td>\n",
       "      <td>10</td>\n",
       "      <td>...</td>\n",
       "      <td>0</td>\n",
       "      <td>0</td>\n",
       "      <td>0</td>\n",
       "      <td>0</td>\n",
       "      <td>0</td>\n",
       "      <td>0</td>\n",
       "      <td>1142</td>\n",
       "      <td>0</td>\n",
       "      <td>1</td>\n",
       "      <td>5444227.0</td>\n",
       "    </tr>\n",
       "  </tbody>\n",
       "</table>\n",
       "<p>10 rows × 41 columns</p>\n",
       "</div>"
      ],
      "text/plain": [
       "   P1   P2   P3   P4  P5  P6  P7  P8  P9  P10    ...      P32  P33  P34  P35  \\\n",
       "0   4  5.0  4.0  4.0   2   2   5   4   5    5    ...        4    5    5    4   \n",
       "1   4  5.0  4.0  4.0   1   2   5   5   5    5    ...        0    0    0    0   \n",
       "2   2  4.0  2.0  5.0   2   3   5   5   5    5    ...        0    0    0    0   \n",
       "3   6  4.5  6.0  6.0   4   4  10   8  10   10    ...       10    6   18   12   \n",
       "4   3  4.0  3.0  4.0   2   2   5   5   5    5    ...        3    2    3    4   \n",
       "5   6  6.0  4.5  7.5   8  10  10   8   8    8    ...        0    0    0    0   \n",
       "6   2  3.0  4.0  4.0   1   5   5   5   5    5    ...        2    2    3    5   \n",
       "7   4  5.0  4.0  5.0   2   3   5   4   4    4    ...        0    0    0    0   \n",
       "8   1  1.0  4.0  4.0   1   2   1   5   5    5    ...        5    3    4    5   \n",
       "9   6  4.5  6.0  7.5   6   4  10  10  10   10    ...        0    0    0    0   \n",
       "\n",
       "   P36  P37  OpenDays  Big Cities  Other    revenue  \n",
       "0    3    4      5647           1      0  5653753.0  \n",
       "1    0    0      2513           1      0  6923131.0  \n",
       "2    0    0       663           0      1  2055379.0  \n",
       "3   12    6      1064           0      1  2675511.0  \n",
       "4    3    3      2063           0      1  4316715.0  \n",
       "5    0    0      1784           1      0  5017319.0  \n",
       "6    4    4      1543           1      0  5166635.0  \n",
       "7    0    0      1290           1      0  4491607.0  \n",
       "8    4    5      1587           0      1  4952497.0  \n",
       "9    0    0      1142           0      1  5444227.0  \n",
       "\n",
       "[10 rows x 41 columns]"
      ]
     },
     "execution_count": 10,
     "metadata": {},
     "output_type": "execute_result"
    }
   ],
   "source": [
    "trainData.head(10)"
   ]
  },
  {
   "cell_type": "markdown",
   "metadata": {},
   "source": [
    "# Train and  Test Split for RandomForestClassifier"
   ]
  },
  {
   "cell_type": "code",
   "execution_count": 11,
   "metadata": {},
   "outputs": [
    {
     "data": {
      "text/plain": [
       "((95, 39), (42, 39), (95,), (42,))"
      ]
     },
     "execution_count": 11,
     "metadata": {},
     "output_type": "execute_result"
    }
   ],
   "source": [
    "\n",
    "\n",
    "from sklearn.model_selection import train_test_split\n",
    "\n",
    "X, y = trainData.iloc[:, 1:40].values, trainData.iloc[:, 40].values\n",
    "\n",
    "X_train, X_test, y_train, y_test =\\\n",
    "    train_test_split(X, y, \n",
    "                     test_size=0.3, \n",
    "                     random_state=0, \n",
    "                )\n",
    "    \n",
    "X_train.shape, X_test.shape, y_train.shape, y_test.shape"
   ]
  },
  {
   "cell_type": "code",
   "execution_count": 12,
   "metadata": {},
   "outputs": [
    {
     "data": {
      "text/plain": [
       "array([ 5653753.,  6923131.,  2055379.,  2675511.,  4316715.,  5017319.,\n",
       "        5166635.,  4491607.,  4952497.,  5444227.,  3745135.,  5161370.,\n",
       "        1734634.,  4807746.,  1999097.,  3218918., 19696939.,  8213524.,\n",
       "        5337526.,  2021934.])"
      ]
     },
     "execution_count": 12,
     "metadata": {},
     "output_type": "execute_result"
    }
   ],
   "source": [
    "y[:20]"
   ]
  },
  {
   "cell_type": "code",
   "execution_count": 13,
   "metadata": {},
   "outputs": [
    {
     "data": {
      "text/plain": [
       "array([1882131., 2364478., 1619683., 3426169., 3218918., 4888774.,\n",
       "       6836483., 7217634., 4350573., 2675511., 1763231., 3248660.,\n",
       "       2390534., 5166635., 4590423., 2544857., 2993069., 4067566.,\n",
       "       4219263., 4780607.])"
      ]
     },
     "execution_count": 13,
     "metadata": {},
     "output_type": "execute_result"
    }
   ],
   "source": [
    "y_train[:20]"
   ]
  },
  {
   "cell_type": "markdown",
   "metadata": {},
   "source": [
    "# For finding best features among others."
   ]
  },
  {
   "cell_type": "code",
   "execution_count": 34,
   "metadata": {
    "scrolled": true
   },
   "outputs": [
    {
     "name": "stdout",
     "output_type": "stream",
     "text": [
      " 1) OpenDays                       0.087800\n",
      " 2) P19                            0.049030\n",
      " 3) P11                            0.048616\n",
      " 4) P28                            0.048073\n",
      " 5) P6                             0.047423\n",
      " 6) P2                             0.046847\n",
      " 7) P20                            0.044270\n",
      " 8) P22                            0.041101\n",
      " 9) P5                             0.038940\n",
      "10) P23                            0.035039\n",
      "11) P4                             0.033633\n",
      "12) P8                             0.032433\n",
      "13) P3                             0.031882\n",
      "14) P29                            0.030229\n",
      "15) P12                            0.027642\n",
      "16) P21                            0.027468\n",
      "17) Big Cities                     0.021086\n",
      "18) Other                          0.019282\n",
      "19) P13                            0.018407\n",
      "20) P9                             0.018130\n",
      "21) P7                             0.017888\n",
      "22) P10                            0.017070\n",
      "23) P32                            0.015280\n",
      "24) P27                            0.015114\n",
      "25) P26                            0.014458\n",
      "26) P17                            0.014213\n",
      "27) P33                            0.013801\n",
      "28) P31                            0.013405\n",
      "29) P14                            0.013398\n",
      "30) P34                            0.012988\n",
      "31) P16                            0.012948\n",
      "32) P15                            0.012927\n",
      "33) P25                            0.012733\n",
      "34) P37                            0.012634\n",
      "35) P24                            0.011999\n",
      "36) P30                            0.011465\n",
      "37) P36                            0.010757\n",
      "38) P35                            0.010173\n",
      "39) P18                            0.009416\n"
     ]
    }
   ],
   "source": [
    "from sklearn.ensemble import RandomForestClassifier\n",
    "\n",
    "feat_labels = trainData.columns[1:40]\n",
    "\n",
    "forest = RandomForestClassifier(n_estimators=500,\n",
    "                                random_state=1)\n",
    "forest.fit(X_train, y_train)\n",
    "\n",
    "\n",
    "\n",
    "importances = forest.feature_importances_\n",
    "\n",
    "indices = np.argsort(importances)[::-1]\n",
    "#print X_train.shape[1]\n",
    "for f in range(X_train.shape[1]):\n",
    "    print(\"%2d) %-*s %f\" % (f + 1, 30, \n",
    "                            feat_labels[indices[f]], \n",
    "                            importances[indices[f]]))\n",
    "    \n",
    "    \n"
   ]
  },
  {
   "cell_type": "code",
   "execution_count": 35,
   "metadata": {},
   "outputs": [
    {
     "data": {
      "image/png": "[encoded data removed]",
      "text/plain": [
       "<Figure size 432x288 with 1 Axes>"
      ]
     },
     "metadata": {},
     "output_type": "display_data"
    }
   ],
   "source": [
    "#hepsi\n",
    "plt.title('Feature Importance')\n",
    "plt.bar(range(X_train.shape[1]), \n",
    "        importances[indices],\n",
    "        align='center')\n",
    "\n",
    "plt.xticks(range(X_train.shape[1]), \n",
    "           feat_labels[indices], rotation=90)\n",
    "plt.xlim([-1, X_train.shape[1]])\n",
    "plt.tight_layout()\n",
    "#plt.savefig('images/04_09.png', dpi=300)\n",
    "plt.show()\n"
   ]
  },
  {
   "cell_type": "code",
   "execution_count": 15,
   "metadata": {},
   "outputs": [
    {
     "data": {
      "text/html": [
       "<div>\n",
       "<style scoped>\n",
       "    .dataframe tbody tr th:only-of-type {\n",
       "        vertical-align: middle;\n",
       "    }\n",
       "\n",
       "    .dataframe tbody tr th {\n",
       "        vertical-align: top;\n",
       "    }\n",
       "\n",
       "    .dataframe thead th {\n",
       "        text-align: right;\n",
       "    }\n",
       "</style>\n",
       "<table border=\"1\" class=\"dataframe\">\n",
       "  <thead>\n",
       "    <tr style=\"text-align: right;\">\n",
       "      <th></th>\n",
       "      <th>OpenDays</th>\n",
       "      <th>P19</th>\n",
       "      <th>P11</th>\n",
       "      <th>P28</th>\n",
       "      <th>P6</th>\n",
       "      <th>P2</th>\n",
       "      <th>P20</th>\n",
       "      <th>P22</th>\n",
       "      <th>P5</th>\n",
       "      <th>P23</th>\n",
       "      <th>...</th>\n",
       "      <th>P34</th>\n",
       "      <th>P16</th>\n",
       "      <th>P15</th>\n",
       "      <th>P25</th>\n",
       "      <th>P37</th>\n",
       "      <th>P24</th>\n",
       "      <th>P30</th>\n",
       "      <th>P36</th>\n",
       "      <th>P35</th>\n",
       "      <th>P18</th>\n",
       "    </tr>\n",
       "  </thead>\n",
       "  <tbody>\n",
       "    <tr>\n",
       "      <th>0</th>\n",
       "      <td>5647</td>\n",
       "      <td>5</td>\n",
       "      <td>3</td>\n",
       "      <td>2.0</td>\n",
       "      <td>2</td>\n",
       "      <td>5.0</td>\n",
       "      <td>4</td>\n",
       "      <td>3</td>\n",
       "      <td>2</td>\n",
       "      <td>3</td>\n",
       "      <td>...</td>\n",
       "      <td>5</td>\n",
       "      <td>2</td>\n",
       "      <td>2</td>\n",
       "      <td>1</td>\n",
       "      <td>4</td>\n",
       "      <td>1</td>\n",
       "      <td>5</td>\n",
       "      <td>3</td>\n",
       "      <td>4</td>\n",
       "      <td>4</td>\n",
       "    </tr>\n",
       "    <tr>\n",
       "      <th>1</th>\n",
       "      <td>2513</td>\n",
       "      <td>3</td>\n",
       "      <td>1</td>\n",
       "      <td>3.0</td>\n",
       "      <td>2</td>\n",
       "      <td>5.0</td>\n",
       "      <td>2</td>\n",
       "      <td>3</td>\n",
       "      <td>1</td>\n",
       "      <td>2</td>\n",
       "      <td>...</td>\n",
       "      <td>0</td>\n",
       "      <td>0</td>\n",
       "      <td>0</td>\n",
       "      <td>0</td>\n",
       "      <td>0</td>\n",
       "      <td>0</td>\n",
       "      <td>0</td>\n",
       "      <td>0</td>\n",
       "      <td>0</td>\n",
       "      <td>0</td>\n",
       "    </tr>\n",
       "    <tr>\n",
       "      <th>2</th>\n",
       "      <td>663</td>\n",
       "      <td>1</td>\n",
       "      <td>2</td>\n",
       "      <td>1.0</td>\n",
       "      <td>3</td>\n",
       "      <td>4.0</td>\n",
       "      <td>1</td>\n",
       "      <td>1</td>\n",
       "      <td>2</td>\n",
       "      <td>1</td>\n",
       "      <td>...</td>\n",
       "      <td>0</td>\n",
       "      <td>0</td>\n",
       "      <td>0</td>\n",
       "      <td>0</td>\n",
       "      <td>0</td>\n",
       "      <td>0</td>\n",
       "      <td>0</td>\n",
       "      <td>0</td>\n",
       "      <td>0</td>\n",
       "      <td>0</td>\n",
       "    </tr>\n",
       "    <tr>\n",
       "      <th>3</th>\n",
       "      <td>1064</td>\n",
       "      <td>20</td>\n",
       "      <td>8</td>\n",
       "      <td>2.5</td>\n",
       "      <td>4</td>\n",
       "      <td>4.5</td>\n",
       "      <td>12</td>\n",
       "      <td>1</td>\n",
       "      <td>4</td>\n",
       "      <td>10</td>\n",
       "      <td>...</td>\n",
       "      <td>18</td>\n",
       "      <td>9</td>\n",
       "      <td>4</td>\n",
       "      <td>2</td>\n",
       "      <td>6</td>\n",
       "      <td>2</td>\n",
       "      <td>25</td>\n",
       "      <td>12</td>\n",
       "      <td>12</td>\n",
       "      <td>12</td>\n",
       "    </tr>\n",
       "    <tr>\n",
       "      <th>4</th>\n",
       "      <td>2063</td>\n",
       "      <td>2</td>\n",
       "      <td>2</td>\n",
       "      <td>1.0</td>\n",
       "      <td>2</td>\n",
       "      <td>4.0</td>\n",
       "      <td>2</td>\n",
       "      <td>2</td>\n",
       "      <td>2</td>\n",
       "      <td>1</td>\n",
       "      <td>...</td>\n",
       "      <td>3</td>\n",
       "      <td>2</td>\n",
       "      <td>1</td>\n",
       "      <td>3</td>\n",
       "      <td>3</td>\n",
       "      <td>2</td>\n",
       "      <td>5</td>\n",
       "      <td>3</td>\n",
       "      <td>4</td>\n",
       "      <td>4</td>\n",
       "    </tr>\n",
       "  </tbody>\n",
       "</table>\n",
       "<p>5 rows × 39 columns</p>\n",
       "</div>"
      ],
      "text/plain": [
       "   OpenDays  P19  P11  P28  P6   P2  P20  P22  P5  P23 ...   P34  P16  P15  \\\n",
       "0      5647    5    3  2.0   2  5.0    4    3   2    3 ...     5    2    2   \n",
       "1      2513    3    1  3.0   2  5.0    2    3   1    2 ...     0    0    0   \n",
       "2       663    1    2  1.0   3  4.0    1    1   2    1 ...     0    0    0   \n",
       "3      1064   20    8  2.5   4  4.5   12    1   4   10 ...    18    9    4   \n",
       "4      2063    2    2  1.0   2  4.0    2    2   2    1 ...     3    2    1   \n",
       "\n",
       "   P25  P37  P24  P30  P36  P35  P18  \n",
       "0    1    4    1    5    3    4    4  \n",
       "1    0    0    0    0    0    0    0  \n",
       "2    0    0    0    0    0    0    0  \n",
       "3    2    6    2   25   12   12   12  \n",
       "4    3    3    2    5    3    4    4  \n",
       "\n",
       "[5 rows x 39 columns]"
      ]
     },
     "execution_count": 15,
     "metadata": {},
     "output_type": "execute_result"
    }
   ],
   "source": [
    "trainData[feat_labels[indices[0:39]]].head()"
   ]
  },
  {
   "cell_type": "markdown",
   "metadata": {},
   "source": [
    "# Test and Train model created over best 19 features."
   ]
  },
  {
   "cell_type": "code",
   "execution_count": 16,
   "metadata": {},
   "outputs": [
    {
     "data": {
      "text/plain": [
       "((95, 19), (42, 19), (95,), (42,))"
      ]
     },
     "execution_count": 16,
     "metadata": {},
     "output_type": "execute_result"
    }
   ],
   "source": [
    "#Model will predict output by using best 19 features.\n",
    "\n",
    "\n",
    "bestDataFeaturesTrain = trainData[feat_labels[indices[0:19]]]\n",
    "\n",
    "y = trainData.iloc[:, 40].values\n",
    "\n",
    "from sklearn.model_selection import train_test_split\n",
    "\n",
    "X, y = trainData.iloc[:, 1:40].values, trainData.iloc[:, 40].values\n",
    "\n",
    "X_trainForModel, X_testForModel, y_trainForModel, y_testForModel =\\\n",
    "    train_test_split(bestDataFeaturesTrain, y, \n",
    "                     test_size=0.3, \n",
    "                     random_state=0, \n",
    "                )\n",
    "\n",
    "\n",
    "\n",
    "    \n",
    "X_trainForModel.shape, X_testForModel.shape, y_trainForModel.shape, y_testForModel.shape"
   ]
  },
  {
   "cell_type": "markdown",
   "metadata": {},
   "source": [
    "# Standardize features by removing the mean and scaling to unit variance"
   ]
  },
  {
   "cell_type": "code",
   "execution_count": 17,
   "metadata": {},
   "outputs": [],
   "source": [
    "from sklearn.preprocessing import StandardScaler\n",
    "\n",
    "sc = StandardScaler(with_std  = True ,with_mean = True, copy = True)\n",
    "X_train_std = sc.fit_transform(X_trainForModel)\n",
    "X_test_std = sc.transform(X_testForModel)"
   ]
  },
  {
   "cell_type": "code",
   "execution_count": 18,
   "metadata": {},
   "outputs": [
    {
     "data": {
      "text/plain": [
       "array([[-0.16928962, -0.11198837, -0.11231348, -0.5053225 , -1.10011554,\n",
       "        -1.57830974, -0.34948465, -0.9324214 , -0.84773376, -0.26093616,\n",
       "        -1.37291772, -0.58444341, -0.21892229, -0.03964349, -0.10006797,\n",
       "        -0.6692546 , -1.17260394,  1.17260394, -0.06520776]])"
      ]
     },
     "execution_count": 18,
     "metadata": {},
     "output_type": "execute_result"
    }
   ],
   "source": [
    "X_train_std[:1]"
   ]
  },
  {
   "cell_type": "markdown",
   "metadata": {},
   "source": [
    "# "
   ]
  },
  {
   "cell_type": "code",
   "execution_count": 19,
   "metadata": {
    "scrolled": true
   },
   "outputs": [
    {
     "data": {
      "text/plain": [
       "array([[-2.16781863,  1.86008789]])"
      ]
     },
     "execution_count": 19,
     "metadata": {},
     "output_type": "execute_result"
    }
   ],
   "source": [
    "from sklearn.decomposition import PCA,KernelPCA\n",
    "\n",
    "pca = PCA(n_components=2,svd_solver='full')\n",
    "X_train_pca = pca.fit_transform(X_train_std)\n",
    "X_test_pca = pca.transform(X_test_std)\n",
    "pca.explained_variance_ratio_\n",
    "\n",
    "kpca = KernelPCA(kernel=\"rbf\", gamma=1)\n",
    "X_kpca = kpca.fit_transform(X_train_pca)\n",
    "X_kpca_test = kpca.transform(X_test_pca)\n",
    "\n",
    "X_train_pca[:1]\n"
   ]
  },
  {
   "cell_type": "code",
   "execution_count": 20,
   "metadata": {},
   "outputs": [
    {
     "data": {
      "text/plain": [
       "Text(0.5,0,'After RBF')"
      ]
     },
     "execution_count": 20,
     "metadata": {},
     "output_type": "execute_result"
    },
    {
     "data": {
      "image/png": "[encoded data removed]",
      "text/plain": [
       "<Figure size 720x360 with 2 Axes>"
      ]
     },
     "metadata": {},
     "output_type": "display_data"
    }
   ],
   "source": [
    "fig, ax = plt.subplots(nrows=1,ncols=2, figsize=(10,5))\n",
    "ax[0].scatter(X_train_pca[:, 0], X_train_pca[:, 1],color='red',marker='o')\n",
    "ax[1].scatter(X_kpca[:, 0], X_kpca[:, 1])\n",
    "ax[0].set_xlabel('Before RBF')\n",
    "ax[1].set_yticks([])\n",
    "ax[1].set_xlabel('After RBF')\n"
   ]
  },
  {
   "cell_type": "code",
   "execution_count": 21,
   "metadata": {
    "scrolled": true
   },
   "outputs": [
    {
     "data": {
      "text/plain": [
       "array([[-0.07139362, -1.50050288]])"
      ]
     },
     "execution_count": 21,
     "metadata": {},
     "output_type": "execute_result"
    }
   ],
   "source": [
    "X_test_pca[:1]"
   ]
  },
  {
   "cell_type": "code",
   "execution_count": 22,
   "metadata": {},
   "outputs": [
    {
     "data": {
      "text/html": [
       "<div>\n",
       "<style scoped>\n",
       "    .dataframe tbody tr th:only-of-type {\n",
       "        vertical-align: middle;\n",
       "    }\n",
       "\n",
       "    .dataframe tbody tr th {\n",
       "        vertical-align: top;\n",
       "    }\n",
       "\n",
       "    .dataframe thead th {\n",
       "        text-align: right;\n",
       "    }\n",
       "</style>\n",
       "<table border=\"1\" class=\"dataframe\">\n",
       "  <thead>\n",
       "    <tr style=\"text-align: right;\">\n",
       "      <th></th>\n",
       "      <th>OpenDays</th>\n",
       "      <th>P19</th>\n",
       "      <th>P11</th>\n",
       "      <th>P28</th>\n",
       "      <th>P6</th>\n",
       "      <th>P2</th>\n",
       "      <th>P20</th>\n",
       "      <th>P22</th>\n",
       "      <th>P5</th>\n",
       "      <th>P23</th>\n",
       "      <th>P4</th>\n",
       "      <th>P8</th>\n",
       "      <th>P3</th>\n",
       "      <th>P29</th>\n",
       "      <th>P12</th>\n",
       "      <th>P21</th>\n",
       "      <th>Big Cities</th>\n",
       "      <th>Other</th>\n",
       "      <th>P13</th>\n",
       "    </tr>\n",
       "  </thead>\n",
       "  <tbody>\n",
       "    <tr>\n",
       "      <th>66</th>\n",
       "      <td>1818</td>\n",
       "      <td>4</td>\n",
       "      <td>3</td>\n",
       "      <td>2.0</td>\n",
       "      <td>1</td>\n",
       "      <td>2.0</td>\n",
       "      <td>3</td>\n",
       "      <td>1</td>\n",
       "      <td>1</td>\n",
       "      <td>2</td>\n",
       "      <td>3.0</td>\n",
       "      <td>4</td>\n",
       "      <td>4.0</td>\n",
       "      <td>3.0</td>\n",
       "      <td>5</td>\n",
       "      <td>1</td>\n",
       "      <td>0</td>\n",
       "      <td>1</td>\n",
       "      <td>5.0</td>\n",
       "    </tr>\n",
       "    <tr>\n",
       "      <th>89</th>\n",
       "      <td>2061</td>\n",
       "      <td>2</td>\n",
       "      <td>1</td>\n",
       "      <td>1.0</td>\n",
       "      <td>2</td>\n",
       "      <td>1.0</td>\n",
       "      <td>1</td>\n",
       "      <td>1</td>\n",
       "      <td>1</td>\n",
       "      <td>1</td>\n",
       "      <td>3.0</td>\n",
       "      <td>5</td>\n",
       "      <td>4.0</td>\n",
       "      <td>3.0</td>\n",
       "      <td>5</td>\n",
       "      <td>1</td>\n",
       "      <td>1</td>\n",
       "      <td>0</td>\n",
       "      <td>5.0</td>\n",
       "    </tr>\n",
       "    <tr>\n",
       "      <th>63</th>\n",
       "      <td>514</td>\n",
       "      <td>2</td>\n",
       "      <td>2</td>\n",
       "      <td>1.0</td>\n",
       "      <td>1</td>\n",
       "      <td>2.0</td>\n",
       "      <td>1</td>\n",
       "      <td>1</td>\n",
       "      <td>3</td>\n",
       "      <td>1</td>\n",
       "      <td>4.0</td>\n",
       "      <td>5</td>\n",
       "      <td>4.0</td>\n",
       "      <td>3.0</td>\n",
       "      <td>5</td>\n",
       "      <td>1</td>\n",
       "      <td>0</td>\n",
       "      <td>1</td>\n",
       "      <td>5.0</td>\n",
       "    </tr>\n",
       "    <tr>\n",
       "      <th>90</th>\n",
       "      <td>511</td>\n",
       "      <td>15</td>\n",
       "      <td>4</td>\n",
       "      <td>5.0</td>\n",
       "      <td>8</td>\n",
       "      <td>7.5</td>\n",
       "      <td>9</td>\n",
       "      <td>3</td>\n",
       "      <td>2</td>\n",
       "      <td>5</td>\n",
       "      <td>6.0</td>\n",
       "      <td>10</td>\n",
       "      <td>6.0</td>\n",
       "      <td>7.5</td>\n",
       "      <td>8</td>\n",
       "      <td>3</td>\n",
       "      <td>1</td>\n",
       "      <td>0</td>\n",
       "      <td>6.0</td>\n",
       "    </tr>\n",
       "    <tr>\n",
       "      <th>15</th>\n",
       "      <td>1059</td>\n",
       "      <td>10</td>\n",
       "      <td>4</td>\n",
       "      <td>7.5</td>\n",
       "      <td>10</td>\n",
       "      <td>7.5</td>\n",
       "      <td>9</td>\n",
       "      <td>2</td>\n",
       "      <td>2</td>\n",
       "      <td>5</td>\n",
       "      <td>6.0</td>\n",
       "      <td>10</td>\n",
       "      <td>6.0</td>\n",
       "      <td>7.5</td>\n",
       "      <td>10</td>\n",
       "      <td>3</td>\n",
       "      <td>1</td>\n",
       "      <td>0</td>\n",
       "      <td>7.5</td>\n",
       "    </tr>\n",
       "  </tbody>\n",
       "</table>\n",
       "</div>"
      ],
      "text/plain": [
       "    OpenDays  P19  P11  P28  P6   P2  P20  P22  P5  P23   P4  P8   P3  P29  \\\n",
       "66      1818    4    3  2.0   1  2.0    3    1   1    2  3.0   4  4.0  3.0   \n",
       "89      2061    2    1  1.0   2  1.0    1    1   1    1  3.0   5  4.0  3.0   \n",
       "63       514    2    2  1.0   1  2.0    1    1   3    1  4.0   5  4.0  3.0   \n",
       "90       511   15    4  5.0   8  7.5    9    3   2    5  6.0  10  6.0  7.5   \n",
       "15      1059   10    4  7.5  10  7.5    9    2   2    5  6.0  10  6.0  7.5   \n",
       "\n",
       "    P12  P21  Big Cities  Other  P13  \n",
       "66    5    1           0      1  5.0  \n",
       "89    5    1           1      0  5.0  \n",
       "63    5    1           0      1  5.0  \n",
       "90    8    3           1      0  6.0  \n",
       "15   10    3           1      0  7.5  "
      ]
     },
     "execution_count": 22,
     "metadata": {},
     "output_type": "execute_result"
    }
   ],
   "source": [
    "X_trainForModel.head()\n"
   ]
  },
  {
   "cell_type": "code",
   "execution_count": 23,
   "metadata": {
    "scrolled": true
   },
   "outputs": [
    {
     "data": {
      "text/plain": [
       "array([[-0.16928962, -0.11198837, -0.11231348, -0.5053225 , -1.10011554,\n",
       "        -1.57830974, -0.34948465, -0.9324214 , -0.84773376, -0.26093616,\n",
       "        -1.37291772, -0.58444341, -0.21892229, -0.03964349, -0.10006797,\n",
       "        -0.6692546 , -1.17260394,  1.17260394, -0.06520776]])"
      ]
     },
     "execution_count": 23,
     "metadata": {},
     "output_type": "execute_result"
    }
   ],
   "source": [
    "X_train_std[:1]"
   ]
  },
  {
   "cell_type": "code",
   "execution_count": 24,
   "metadata": {},
   "outputs": [
    {
     "data": {
      "text/html": [
       "<div>\n",
       "<style scoped>\n",
       "    .dataframe tbody tr th:only-of-type {\n",
       "        vertical-align: middle;\n",
       "    }\n",
       "\n",
       "    .dataframe tbody tr th {\n",
       "        vertical-align: top;\n",
       "    }\n",
       "\n",
       "    .dataframe thead th {\n",
       "        text-align: right;\n",
       "    }\n",
       "</style>\n",
       "<table border=\"1\" class=\"dataframe\">\n",
       "  <thead>\n",
       "    <tr style=\"text-align: right;\">\n",
       "      <th></th>\n",
       "      <th>OpenDays</th>\n",
       "      <th>P19</th>\n",
       "      <th>P11</th>\n",
       "      <th>P28</th>\n",
       "      <th>P6</th>\n",
       "      <th>P2</th>\n",
       "      <th>P20</th>\n",
       "      <th>P22</th>\n",
       "      <th>P5</th>\n",
       "      <th>P23</th>\n",
       "      <th>P4</th>\n",
       "      <th>P8</th>\n",
       "      <th>P3</th>\n",
       "      <th>P29</th>\n",
       "      <th>P12</th>\n",
       "      <th>P21</th>\n",
       "      <th>Big Cities</th>\n",
       "      <th>Other</th>\n",
       "      <th>P13</th>\n",
       "    </tr>\n",
       "  </thead>\n",
       "  <tbody>\n",
       "    <tr>\n",
       "      <th>26</th>\n",
       "      <td>1773</td>\n",
       "      <td>5</td>\n",
       "      <td>5</td>\n",
       "      <td>3.0</td>\n",
       "      <td>3</td>\n",
       "      <td>5.0</td>\n",
       "      <td>5</td>\n",
       "      <td>3</td>\n",
       "      <td>2</td>\n",
       "      <td>2</td>\n",
       "      <td>5.0</td>\n",
       "      <td>3</td>\n",
       "      <td>4.0</td>\n",
       "      <td>3.0</td>\n",
       "      <td>5</td>\n",
       "      <td>2</td>\n",
       "      <td>1</td>\n",
       "      <td>0</td>\n",
       "      <td>4.0</td>\n",
       "    </tr>\n",
       "    <tr>\n",
       "      <th>8</th>\n",
       "      <td>1587</td>\n",
       "      <td>1</td>\n",
       "      <td>1</td>\n",
       "      <td>2.0</td>\n",
       "      <td>2</td>\n",
       "      <td>1.0</td>\n",
       "      <td>1</td>\n",
       "      <td>1</td>\n",
       "      <td>1</td>\n",
       "      <td>1</td>\n",
       "      <td>4.0</td>\n",
       "      <td>5</td>\n",
       "      <td>4.0</td>\n",
       "      <td>3.0</td>\n",
       "      <td>5</td>\n",
       "      <td>1</td>\n",
       "      <td>0</td>\n",
       "      <td>1</td>\n",
       "      <td>5.0</td>\n",
       "    </tr>\n",
       "    <tr>\n",
       "      <th>86</th>\n",
       "      <td>1255</td>\n",
       "      <td>3</td>\n",
       "      <td>3</td>\n",
       "      <td>2.0</td>\n",
       "      <td>2</td>\n",
       "      <td>3.0</td>\n",
       "      <td>5</td>\n",
       "      <td>3</td>\n",
       "      <td>2</td>\n",
       "      <td>2</td>\n",
       "      <td>4.0</td>\n",
       "      <td>4</td>\n",
       "      <td>4.0</td>\n",
       "      <td>3.0</td>\n",
       "      <td>5</td>\n",
       "      <td>1</td>\n",
       "      <td>0</td>\n",
       "      <td>1</td>\n",
       "      <td>5.0</td>\n",
       "    </tr>\n",
       "    <tr>\n",
       "      <th>78</th>\n",
       "      <td>824</td>\n",
       "      <td>25</td>\n",
       "      <td>4</td>\n",
       "      <td>7.5</td>\n",
       "      <td>6</td>\n",
       "      <td>7.5</td>\n",
       "      <td>12</td>\n",
       "      <td>2</td>\n",
       "      <td>8</td>\n",
       "      <td>10</td>\n",
       "      <td>7.5</td>\n",
       "      <td>10</td>\n",
       "      <td>6.0</td>\n",
       "      <td>2.5</td>\n",
       "      <td>6</td>\n",
       "      <td>6</td>\n",
       "      <td>1</td>\n",
       "      <td>0</td>\n",
       "      <td>6.0</td>\n",
       "    </tr>\n",
       "    <tr>\n",
       "      <th>43</th>\n",
       "      <td>1925</td>\n",
       "      <td>1</td>\n",
       "      <td>2</td>\n",
       "      <td>1.0</td>\n",
       "      <td>2</td>\n",
       "      <td>4.0</td>\n",
       "      <td>1</td>\n",
       "      <td>2</td>\n",
       "      <td>1</td>\n",
       "      <td>1</td>\n",
       "      <td>4.0</td>\n",
       "      <td>5</td>\n",
       "      <td>5.0</td>\n",
       "      <td>3.0</td>\n",
       "      <td>5</td>\n",
       "      <td>1</td>\n",
       "      <td>1</td>\n",
       "      <td>0</td>\n",
       "      <td>5.0</td>\n",
       "    </tr>\n",
       "  </tbody>\n",
       "</table>\n",
       "</div>"
      ],
      "text/plain": [
       "    OpenDays  P19  P11  P28  P6   P2  P20  P22  P5  P23   P4  P8   P3  P29  \\\n",
       "26      1773    5    5  3.0   3  5.0    5    3   2    2  5.0   3  4.0  3.0   \n",
       "8       1587    1    1  2.0   2  1.0    1    1   1    1  4.0   5  4.0  3.0   \n",
       "86      1255    3    3  2.0   2  3.0    5    3   2    2  4.0   4  4.0  3.0   \n",
       "78       824   25    4  7.5   6  7.5   12    2   8   10  7.5  10  6.0  2.5   \n",
       "43      1925    1    2  1.0   2  4.0    1    2   1    1  4.0   5  5.0  3.0   \n",
       "\n",
       "    P12  P21  Big Cities  Other  P13  \n",
       "26    5    2           1      0  4.0  \n",
       "8     5    1           0      1  5.0  \n",
       "86    5    1           0      1  5.0  \n",
       "78    6    6           1      0  6.0  \n",
       "43    5    1           1      0  5.0  "
      ]
     },
     "execution_count": 24,
     "metadata": {},
     "output_type": "execute_result"
    }
   ],
   "source": [
    "X_testForModel.head()"
   ]
  },
  {
   "cell_type": "code",
   "execution_count": 25,
   "metadata": {},
   "outputs": [
    {
     "data": {
      "text/html": [
       "<div>\n",
       "<style scoped>\n",
       "    .dataframe tbody tr th:only-of-type {\n",
       "        vertical-align: middle;\n",
       "    }\n",
       "\n",
       "    .dataframe tbody tr th {\n",
       "        vertical-align: top;\n",
       "    }\n",
       "\n",
       "    .dataframe thead th {\n",
       "        text-align: right;\n",
       "    }\n",
       "</style>\n",
       "<table border=\"1\" class=\"dataframe\">\n",
       "  <thead>\n",
       "    <tr style=\"text-align: right;\">\n",
       "      <th></th>\n",
       "      <th>OpenDays</th>\n",
       "      <th>P19</th>\n",
       "      <th>P11</th>\n",
       "      <th>P28</th>\n",
       "      <th>P6</th>\n",
       "      <th>P2</th>\n",
       "      <th>P20</th>\n",
       "      <th>P22</th>\n",
       "      <th>P5</th>\n",
       "      <th>P23</th>\n",
       "      <th>P4</th>\n",
       "      <th>P8</th>\n",
       "      <th>P3</th>\n",
       "      <th>P29</th>\n",
       "      <th>P12</th>\n",
       "      <th>P21</th>\n",
       "      <th>Big Cities</th>\n",
       "      <th>Other</th>\n",
       "      <th>P13</th>\n",
       "    </tr>\n",
       "  </thead>\n",
       "  <tbody>\n",
       "    <tr>\n",
       "      <th>26</th>\n",
       "      <td>1773</td>\n",
       "      <td>5</td>\n",
       "      <td>5</td>\n",
       "      <td>3.0</td>\n",
       "      <td>3</td>\n",
       "      <td>5.0</td>\n",
       "      <td>5</td>\n",
       "      <td>3</td>\n",
       "      <td>2</td>\n",
       "      <td>2</td>\n",
       "      <td>5.0</td>\n",
       "      <td>3</td>\n",
       "      <td>4.0</td>\n",
       "      <td>3.0</td>\n",
       "      <td>5</td>\n",
       "      <td>2</td>\n",
       "      <td>1</td>\n",
       "      <td>0</td>\n",
       "      <td>4.0</td>\n",
       "    </tr>\n",
       "    <tr>\n",
       "      <th>8</th>\n",
       "      <td>1587</td>\n",
       "      <td>1</td>\n",
       "      <td>1</td>\n",
       "      <td>2.0</td>\n",
       "      <td>2</td>\n",
       "      <td>1.0</td>\n",
       "      <td>1</td>\n",
       "      <td>1</td>\n",
       "      <td>1</td>\n",
       "      <td>1</td>\n",
       "      <td>4.0</td>\n",
       "      <td>5</td>\n",
       "      <td>4.0</td>\n",
       "      <td>3.0</td>\n",
       "      <td>5</td>\n",
       "      <td>1</td>\n",
       "      <td>0</td>\n",
       "      <td>1</td>\n",
       "      <td>5.0</td>\n",
       "    </tr>\n",
       "    <tr>\n",
       "      <th>86</th>\n",
       "      <td>1255</td>\n",
       "      <td>3</td>\n",
       "      <td>3</td>\n",
       "      <td>2.0</td>\n",
       "      <td>2</td>\n",
       "      <td>3.0</td>\n",
       "      <td>5</td>\n",
       "      <td>3</td>\n",
       "      <td>2</td>\n",
       "      <td>2</td>\n",
       "      <td>4.0</td>\n",
       "      <td>4</td>\n",
       "      <td>4.0</td>\n",
       "      <td>3.0</td>\n",
       "      <td>5</td>\n",
       "      <td>1</td>\n",
       "      <td>0</td>\n",
       "      <td>1</td>\n",
       "      <td>5.0</td>\n",
       "    </tr>\n",
       "    <tr>\n",
       "      <th>78</th>\n",
       "      <td>824</td>\n",
       "      <td>25</td>\n",
       "      <td>4</td>\n",
       "      <td>7.5</td>\n",
       "      <td>6</td>\n",
       "      <td>7.5</td>\n",
       "      <td>12</td>\n",
       "      <td>2</td>\n",
       "      <td>8</td>\n",
       "      <td>10</td>\n",
       "      <td>7.5</td>\n",
       "      <td>10</td>\n",
       "      <td>6.0</td>\n",
       "      <td>2.5</td>\n",
       "      <td>6</td>\n",
       "      <td>6</td>\n",
       "      <td>1</td>\n",
       "      <td>0</td>\n",
       "      <td>6.0</td>\n",
       "    </tr>\n",
       "    <tr>\n",
       "      <th>43</th>\n",
       "      <td>1925</td>\n",
       "      <td>1</td>\n",
       "      <td>2</td>\n",
       "      <td>1.0</td>\n",
       "      <td>2</td>\n",
       "      <td>4.0</td>\n",
       "      <td>1</td>\n",
       "      <td>2</td>\n",
       "      <td>1</td>\n",
       "      <td>1</td>\n",
       "      <td>4.0</td>\n",
       "      <td>5</td>\n",
       "      <td>5.0</td>\n",
       "      <td>3.0</td>\n",
       "      <td>5</td>\n",
       "      <td>1</td>\n",
       "      <td>1</td>\n",
       "      <td>0</td>\n",
       "      <td>5.0</td>\n",
       "    </tr>\n",
       "  </tbody>\n",
       "</table>\n",
       "</div>"
      ],
      "text/plain": [
       "    OpenDays  P19  P11  P28  P6   P2  P20  P22  P5  P23   P4  P8   P3  P29  \\\n",
       "26      1773    5    5  3.0   3  5.0    5    3   2    2  5.0   3  4.0  3.0   \n",
       "8       1587    1    1  2.0   2  1.0    1    1   1    1  4.0   5  4.0  3.0   \n",
       "86      1255    3    3  2.0   2  3.0    5    3   2    2  4.0   4  4.0  3.0   \n",
       "78       824   25    4  7.5   6  7.5   12    2   8   10  7.5  10  6.0  2.5   \n",
       "43      1925    1    2  1.0   2  4.0    1    2   1    1  4.0   5  5.0  3.0   \n",
       "\n",
       "    P12  P21  Big Cities  Other  P13  \n",
       "26    5    2           1      0  4.0  \n",
       "8     5    1           0      1  5.0  \n",
       "86    5    1           0      1  5.0  \n",
       "78    6    6           1      0  6.0  \n",
       "43    5    1           1      0  5.0  "
      ]
     },
     "execution_count": 25,
     "metadata": {},
     "output_type": "execute_result"
    }
   ],
   "source": [
    "X_testForModel.head()\n"
   ]
  },
  {
   "cell_type": "code",
   "execution_count": 26,
   "metadata": {},
   "outputs": [
    {
     "data": {
      "text/plain": [
       "array([ 2267425.,  4952497.,  3351383.,  3871344.,  2732645.,  7495092.,\n",
       "        3956086.,  2156098.,  3752885.,  8904084.,  3600467.,  2097022.,\n",
       "        4651866.,  5435276.,  5286212.,  4882985.,  4155435.,  4286645.,\n",
       "        4467728.,  4250553.,  3164972.,  5337526.,  6782425.,  2371202.,\n",
       "        3753720.,  7201784.,  4491607., 19696939.,  2383840.,  3745135.,\n",
       "        2055379.,  3273041.,  4758476.,  8894598.,  3008199.,  6694797.,\n",
       "        3347767.,  4136425.,  4264176.,  3570392.,  3199619.,  4807746.])"
      ]
     },
     "execution_count": 26,
     "metadata": {},
     "output_type": "execute_result"
    }
   ],
   "source": [
    "y_testForModel"
   ]
  },
  {
   "cell_type": "markdown",
   "metadata": {},
   "source": [
    "# RandomForestRegressor is used to predict \"revenues\""
   ]
  },
  {
   "cell_type": "code",
   "execution_count": 27,
   "metadata": {},
   "outputs": [
    {
     "name": "stdout",
     "output_type": "stream",
     "text": [
      "Score is calculated as:  0.8377399268816645\n"
     ]
    }
   ],
   "source": [
    "yTrainTemp = trainData['revenue']\n",
    "\n",
    "\n",
    "import numpy\n",
    "from sklearn import linear_model\n",
    "cls = RandomForestRegressor(n_estimators=250, criterion='mse', max_depth=30)#cls = RandomForestRegressor(n_estimators=150)\n",
    "\n",
    "cls.fit(X_kpca, y_trainForModel)\n",
    "\n",
    "scoreOfModel = cls.score(X_kpca, y_trainForModel)\n",
    "\n",
    "\n",
    "print(\"Score is calculated as: \",scoreOfModel)"
   ]
  },
  {
   "cell_type": "code",
   "execution_count": 28,
   "metadata": {
    "scrolled": true
   },
   "outputs": [
    {
     "data": {
      "text/plain": [
       "array([4942920.74 , 3648170.356, 4532101.408, 5121261.312, 4933991.624,\n",
       "       5852044.268, 5019821.464, 6814897.872, 5160222.32 , 4763768.028,\n",
       "       5600636.656, 3506309.544, 4510079.732, 6348119.264, 3725792.616,\n",
       "       5243568.16 , 5628707.516, 5175366.492, 5364117.28 , 3998059.252,\n",
       "       4864635.36 , 5589097.276, 5030542.836, 3641407.164, 3692794.264,\n",
       "       5397692.628, 5358405.664, 5541187.368, 5577743.32 , 4930828.98 ,\n",
       "       3882246.8  , 5475221.976, 5584836.528, 4707584.012, 5449242.956,\n",
       "       5152761.492, 7170348.376, 4843514.644, 5117476.032, 5260448.076,\n",
       "       4066215.104, 3814551.188])"
      ]
     },
     "execution_count": 28,
     "metadata": {},
     "output_type": "execute_result"
    }
   ],
   "source": [
    "pred = cls.predict(X_kpca_test)\n",
    "pred"
   ]
  },
  {
   "cell_type": "code",
   "execution_count": 36,
   "metadata": {},
   "outputs": [
    {
     "data": {
      "text/plain": [
       "RandomForestClassifier(bootstrap=True, class_weight=None, criterion='gini',\n",
       "            max_depth=None, max_features='auto', max_leaf_nodes=None,\n",
       "            min_impurity_decrease=0.0, min_impurity_split=None,\n",
       "            min_samples_leaf=1, min_samples_split=2,\n",
       "            min_weight_fraction_leaf=0.0, n_estimators=10, n_jobs=1,\n",
       "            oob_score=False, random_state=None, verbose=0,\n",
       "            warm_start=False)"
      ]
     },
     "execution_count": 36,
     "metadata": {},
     "output_type": "execute_result"
    }
   ],
   "source": [
    "from sklearn.ensemble import RandomForestClassifier\n",
    "rclf = RandomForestClassifier()\n",
    "rclf.fit(X_kpca, y_trainForModel)"
   ]
  },
  {
   "cell_type": "code",
   "execution_count": 43,
   "metadata": {},
   "outputs": [
    {
     "name": "stdout",
     "output_type": "stream",
     "text": [
      "42\n",
      "0.0\n"
     ]
    }
   ],
   "source": [
    "from sklearn.metrics import accuracy_score,recall_score,confusion_matrix\n",
    "y_pred = rclf.predict(X_kpca_test)\n",
    "print(len(X_kpca_test))\n",
    "print(accuracy_score(y_test,y_pred))\n"
   ]
  },
  {
   "cell_type": "code",
   "execution_count": 46,
   "metadata": {},
   "outputs": [
    {
     "data": {
      "text/plain": [
       "array([2267425., 4952497., 3351383., 3871344., 2732645., 7495092.,\n",
       "       3956086., 2156098., 3752885., 8904084.])"
      ]
     },
     "execution_count": 46,
     "metadata": {},
     "output_type": "execute_result"
    }
   ],
   "source": [
    "y_test[:10]"
   ]
  },
  {
   "cell_type": "markdown",
   "metadata": {},
   "source": [
    "## Effect of estimators on score graphically shown below "
   ]
  },
  {
   "cell_type": "code",
   "execution_count": 29,
   "metadata": {},
   "outputs": [
    {
     "data": {
      "text/plain": [
       "[<matplotlib.lines.Line2D at 0x7f5b7fed9358>]"
      ]
     },
     "execution_count": 29,
     "metadata": {},
     "output_type": "execute_result"
    },
    {
     "data": {
      "image/png": "[encoded data removed]",
      "text/plain": [
       "<Figure size 432x288 with 1 Axes>"
      ]
     },
     "metadata": {},
     "output_type": "display_data"
    }
   ],
   "source": [
    "estimators = np.arange(10, 250, 10) # 10 to 250 increased with 10\n",
    "scores = []\n",
    "for n in estimators:\n",
    "    cls.set_params(n_estimators=n)\n",
    "    cls.fit(X_train_pca, y_trainForModel)\n",
    "    scores.append(cls.score(X_train_pca, y_trainForModel))\n",
    "plt.title(\"Effect of n_estimators\")\n",
    "plt.xlabel(\"n_estimator\")\n",
    "plt.ylabel(\"score\")\n",
    "plt.plot(estimators, scores)"
   ]
  },
  {
   "cell_type": "markdown",
   "metadata": {},
   "source": [
    "# Plot Revenues(orenge line) and Predicted Revenues(blue line)"
   ]
  },
  {
   "cell_type": "code",
   "execution_count": 30,
   "metadata": {},
   "outputs": [
    {
     "data": {
      "text/plain": [
       "[<matplotlib.lines.Line2D at 0x7f5b7fea2390>,\n",
       " <matplotlib.lines.Line2D at 0x7f5b7fea24e0>]"
      ]
     },
     "execution_count": 30,
     "metadata": {},
     "output_type": "execute_result"
    },
    {
     "data": {
      "image/png": "[encoded data removed]",
      "text/plain": [
       "<Figure size 432x288 with 1 Axes>"
      ]
     },
     "metadata": {},
     "output_type": "display_data"
    }
   ],
   "source": [
    "\n",
    "r = []\n",
    "for pair in  zip(pred, y_testForModel):\n",
    "    r.append(pair)\n",
    "\n",
    "plt.plot(r)\n"
   ]
  },
  {
   "cell_type": "code",
   "execution_count": 31,
   "metadata": {},
   "outputs": [
    {
     "data": {
      "text/plain": [
       "array([4942920.74 , 3648170.356, 4532101.408, 5121261.312, 4933991.624,\n",
       "       5852044.268, 5019821.464, 6814897.872, 5160222.32 , 4763768.028,\n",
       "       5600636.656, 3506309.544, 4510079.732, 6348119.264, 3725792.616,\n",
       "       5243568.16 , 5628707.516, 5175366.492, 5364117.28 , 3998059.252])"
      ]
     },
     "execution_count": 31,
     "metadata": {},
     "output_type": "execute_result"
    }
   ],
   "source": [
    "pred[:20]"
   ]
  },
  {
   "cell_type": "code",
   "execution_count": 32,
   "metadata": {
    "scrolled": true
   },
   "outputs": [
    {
     "data": {
      "text/plain": [
       "0      5653753.0\n",
       "1      6923131.0\n",
       "2      2055379.0\n",
       "3      2675511.0\n",
       "4      4316715.0\n",
       "5      5017319.0\n",
       "6      5166635.0\n",
       "7      4491607.0\n",
       "8      4952497.0\n",
       "9      5444227.0\n",
       "10     3745135.0\n",
       "11     5161370.0\n",
       "12     1734634.0\n",
       "13     4807746.0\n",
       "14     1999097.0\n",
       "15     3218918.0\n",
       "16    19696939.0\n",
       "17     8213524.0\n",
       "18     5337526.0\n",
       "19     2021934.0\n",
       "Name: revenue, dtype: float64"
      ]
     },
     "execution_count": 32,
     "metadata": {},
     "output_type": "execute_result"
    }
   ],
   "source": [
    "yTrainTemp.head(20)"
   ]
  },
  {
   "cell_type": "code",
   "execution_count": 33,
   "metadata": {
    "scrolled": true
   },
   "outputs": [
    {
     "name": "stdout",
     "output_type": "stream",
     "text": [
      "(2267425.0, 4942920.74) -1.1799709979381898\n",
      "(4952497.0, 3648170.356) 0.2633674778601582\n",
      "(3351383.0, 4532101.408) -0.3523078108351089\n",
      "(3871344.0, 5121261.312) -0.32286392322666235\n",
      "(2732645.0, 4933991.624) -0.8055735831035498\n",
      "(7495092.0, 5852044.268) 0.21921648620190384\n",
      "(3956086.0, 5019821.464) -0.26888582907449426\n",
      "(2156098.0, 6814897.872) -2.160755156769312\n",
      "(3752885.0, 5160222.32) -0.37500145088378684\n",
      "(8904084.0, 4763768.028) 0.4649906685516444\n",
      "(3600467.0, 5600636.656) -0.5555306175560005\n",
      "(2097022.0, 3506309.544) -0.6720423266899442\n",
      "(4651866.0, 4510079.732) 0.030479439433552073\n",
      "(5435276.0, 6348119.264) -0.1679479135926125\n",
      "(5286212.0, 3725792.616) 0.2951866826377754\n",
      "(4882985.0, 5243568.16) -0.07384482237811506\n",
      "(4155435.0, 5628707.516) -0.35454110484221263\n",
      "(4286645.0, 5175366.492) -0.20732332441804713\n",
      "(4467728.0, 5364117.28) -0.200636493537655\n",
      "(4250553.0, 3998059.252) 0.059402564325159606\n",
      "(3164972.0, 4864635.36) -0.5370231900945728\n",
      "(5337526.0, 5589097.276) -0.047132562164568306\n",
      "(6782425.0, 5030542.836) 0.25829731460355254\n",
      "(2371202.0, 3641407.164) -0.5356798636303444\n",
      "(3753720.0, 3692794.264) 0.01623076201741207\n",
      "(7201784.0, 5397692.628) 0.250506176247441\n",
      "(4491607.0, 5358405.664) -0.1929818579408216\n",
      "(19696939.0, 5541187.368) 0.7186777413485415\n",
      "(2383840.0, 5577743.32) -1.3398144674139205\n",
      "(3745135.0, 4930828.98) -0.31659579160697826\n",
      "(2055379.0, 3882246.8) -0.8888228399725792\n",
      "(3273041.0, 5475221.976) -0.6728241338864988\n",
      "(4758476.0, 5584836.528) -0.17366075356899982\n",
      "(8894598.0, 4707584.012) 0.47073673121595827\n",
      "(3008199.0, 5449242.956) -0.8114635886788075\n",
      "(6694797.0, 5152761.492) 0.23033342280579985\n",
      "(3347767.0, 7170348.376) -1.1418301739637198\n",
      "(4136425.0, 4843514.644) -0.1709422131429919\n",
      "(4264176.0, 5117476.032) -0.2001090086337899\n",
      "(3570392.0, 5260448.076) -0.47335308728005226\n",
      "(3199619.0, 4066215.104) -0.27084352980776766\n",
      "(4807746.0, 3814551.188) 0.2065822137858364\n"
     ]
    }
   ],
   "source": [
    "for z in zip(y_testForModel, pred):\n",
    "    print(z, (z[0]-z[1]) /z[0] )\n"
   ]
  },
  {
   "cell_type": "code",
   "execution_count": null,
   "metadata": {},
   "outputs": [],
   "source": []
  },
  {
   "cell_type": "code",
   "execution_count": null,
   "metadata": {},
   "outputs": [],
   "source": []
  },
  {
   "cell_type": "code",
   "execution_count": null,
   "metadata": {},
   "outputs": [],
   "source": []
  },
  {
   "cell_type": "code",
   "execution_count": null,
   "metadata": {},
   "outputs": [],
   "source": []
  }
 ],
 "metadata": {
  "kernelspec": {
   "display_name": "Python 3",
   "language": "python",
   "name": "python3"
  },
  "language_info": {
   "codemirror_mode": {
    "name": "ipython",
    "version": 3
   },
   "file_extension": ".py",
   "mimetype": "text/x-python",
   "name": "python",
   "nbconvert_exporter": "python",
   "pygments_lexer": "ipython3",
   "version": "3.5.2"
  }
 },
 "nbformat": 4,
 "nbformat_minor": 2
}
